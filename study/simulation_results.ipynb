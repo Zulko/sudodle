{
 "cells": [
  {
   "cell_type": "markdown",
   "metadata": {},
   "source": [
    "# Sudodle simulations\n"
   ]
  },
  {
   "cell_type": "code",
   "execution_count": 2,
   "metadata": {},
   "outputs": [],
   "source": [
    "%load_ext autoreload\n",
    "%autoreload 2"
   ]
  },
  {
   "cell_type": "code",
   "execution_count": 4,
   "metadata": {},
   "outputs": [],
   "source": [
    "import matplotlib.pyplot as plt\n",
    "from tqdm.auto import tqdm\n",
    "from concurrent.futures import ProcessPoolExecutor, as_completed\n",
    "from sudodle_simulation import (\n",
    "    simulate_game,\n",
    "    cyclic_latin_square,\n",
    "    uniform_random_latin_square,\n",
    "    square_to_string,\n",
    "    run_multiple_simulations_in_parallel,\n",
    ")\n",
    "\n",
    "from sudodle_plotting import plot_simulation_histogram\n"
   ]
  },
  {
   "cell_type": "markdown",
   "metadata": {},
   "source": [
    "## Results starting from the classic cyclic latin square\n"
   ]
  },
  {
   "cell_type": "code",
   "execution_count": 8,
   "metadata": {},
   "outputs": [
    {
     "data": {
      "application/vnd.jupyter.widget-view+json": {
       "model_id": "8d6076e8cc7e41e895e3961bd9f5f228",
       "version_major": 2,
       "version_minor": 0
      },
      "text/plain": [
       "  0%|          | 0/10000 [00:00<?, ?it/s]"
      ]
     },
     "metadata": {},
     "output_type": "display_data"
    },
    {
     "data": {
      "application/vnd.jupyter.widget-view+json": {
       "model_id": "e13eae5c675c476786c681168abd7e81",
       "version_major": 2,
       "version_minor": 0
      },
      "text/plain": [
       "  0%|          | 0/10000 [00:00<?, ?it/s]"
      ]
     },
     "metadata": {},
     "output_type": "display_data"
    },
    {
     "data": {
      "application/vnd.jupyter.widget-view+json": {
       "model_id": "aec3974d3d584255830f151c60b632f1",
       "version_major": 2,
       "version_minor": 0
      },
      "text/plain": [
       "  0%|          | 0/10000 [00:00<?, ?it/s]"
      ]
     },
     "metadata": {},
     "output_type": "display_data"
    },
    {
     "data": {
      "application/vnd.jupyter.widget-view+json": {
       "model_id": "46d5f44c2a494fc888eac397966a6753",
       "version_major": 2,
       "version_minor": 0
      },
      "text/plain": [
       "  0%|          | 0/10000 [00:00<?, ?it/s]"
      ]
     },
     "metadata": {},
     "output_type": "display_data"
    },
    {
     "data": {
      "application/vnd.jupyter.widget-view+json": {
       "model_id": "d4cf0bcfcd17487c97ad3050f0f57cd3",
       "version_major": 2,
       "version_minor": 0
      },
      "text/plain": [
       "  0%|          | 0/10000 [00:00<?, ?it/s]"
      ]
     },
     "metadata": {},
     "output_type": "display_data"
    },
    {
     "data": {
      "image/png": "[encoded data removed]",
      "text/plain": [
       "<Figure size 1000x100 with 5 Axes>"
      ]
     },
     "metadata": {},
     "output_type": "display_data"
    }
   ],
   "source": [
    "fig, axes = plt.subplots(1, 5, figsize=(10, 1))\n",
    "for i, ax in enumerate(axes):\n",
    "    n = i + 5\n",
    "    cyclic_square = cyclic_latin_square(n)\n",
    "    tries_list = run_multiple_simulations_in_parallel(10_000 * [cyclic_square])\n",
    "    n_tries_list = [len(tries) + 1 for tries in tries_list if tries is not None]\n",
    "    plot_simulation_histogram(n_tries_list, ax=ax, title=f\"{n}x{n} grid\")\n",
    "    if ax != axes[0]:\n",
    "        ax.set_ylabel(\"\")\n",
    "fig.savefig(\"outputs/simulation_5_to_9.jpeg\", bbox_inches=\"tight\")"
   ]
  },
  {
   "cell_type": "code",
   "execution_count": 12,
   "metadata": {},
   "outputs": [
    {
     "data": {
      "application/vnd.jupyter.widget-view+json": {
       "model_id": "2e8c719b22ea40f4a3724abceabda41e",
       "version_major": 2,
       "version_minor": 0
      },
      "text/plain": [
       "  0%|          | 0/10000 [00:00<?, ?it/s]"
      ]
     },
     "metadata": {},
     "output_type": "display_data"
    },
    {
     "data": {
      "application/vnd.jupyter.widget-view+json": {
       "model_id": "31dc9d56b25945849693e292226ed7ed",
       "version_major": 2,
       "version_minor": 0
      },
      "text/plain": [
       "  0%|          | 0/10000 [00:00<?, ?it/s]"
      ]
     },
     "metadata": {},
     "output_type": "display_data"
    },
    {
     "data": {
      "application/vnd.jupyter.widget-view+json": {
       "model_id": "02d6e47475114efaa4c16c241001483b",
       "version_major": 2,
       "version_minor": 0
      },
      "text/plain": [
       "  0%|          | 0/10000 [00:00<?, ?it/s]"
      ]
     },
     "metadata": {},
     "output_type": "display_data"
    },
    {
     "data": {
      "application/vnd.jupyter.widget-view+json": {
       "model_id": "cbef3d002b33474ca859295511f4b88e",
       "version_major": 2,
       "version_minor": 0
      },
      "text/plain": [
       "  0%|          | 0/10000 [00:00<?, ?it/s]"
      ]
     },
     "metadata": {},
     "output_type": "display_data"
    },
    {
     "data": {
      "application/vnd.jupyter.widget-view+json": {
       "model_id": "e359c0a7b1fb488390697453e71f53ae",
       "version_major": 2,
       "version_minor": 0
      },
      "text/plain": [
       "  0%|          | 0/10000 [00:00<?, ?it/s]"
      ]
     },
     "metadata": {},
     "output_type": "display_data"
    },
    {
     "data": {
      "image/png": "[encoded data removed]",
      "text/plain": [
       "<Figure size 1000x100 with 5 Axes>"
      ]
     },
     "metadata": {},
     "output_type": "display_data"
    }
   ],
   "source": [
    "fig, axes = plt.subplots(1, 5, figsize=(10, 1))\n",
    "for i, ax in enumerate(axes):\n",
    "    first_guess = uniform_random_latin_square(5)\n",
    "    tries_list = run_multiple_simulations_in_parallel(10_000 * [first_guess])\n",
    "    n_tries_list = [len(tries) + 1 for tries in tries_list if tries is not None]\n",
    "    plot_simulation_histogram(n_tries_list, ax=ax, title=f\"5x5 grid ({i + 1})\")\n",
    "    if ax != axes[0]:\n",
    "        ax.set_ylabel(\"\")\n",
    "        ax.set_yticklabels([])\n",
    "fig.savefig(\"outputs/simulations_random_latin_squares.jpeg\", bbox_inches=\"tight\")\n"
   ]
  },
  {
   "cell_type": "code",
   "execution_count": 18,
   "metadata": {},
   "outputs": [
    {
     "data": {
      "application/vnd.jupyter.widget-view+json": {
       "model_id": "5c074fa99c554a7ea5794c92a424d19a",
       "version_major": 2,
       "version_minor": 0
      },
      "text/plain": [
       "  0%|          | 0/10000 [00:00<?, ?it/s]"
      ]
     },
     "metadata": {},
     "output_type": "display_data"
    },
    {
     "data": {
      "application/vnd.jupyter.widget-view+json": {
       "model_id": "932bf96100984402aaecfe7f4173e771",
       "version_major": 2,
       "version_minor": 0
      },
      "text/plain": [
       "  0%|          | 0/10000 [00:00<?, ?it/s]"
      ]
     },
     "metadata": {},
     "output_type": "display_data"
    },
    {
     "data": {
      "application/vnd.jupyter.widget-view+json": {
       "model_id": "2af2140c98174c818ad218d64aa965b2",
       "version_major": 2,
       "version_minor": 0
      },
      "text/plain": [
       "  0%|          | 0/10000 [00:00<?, ?it/s]"
      ]
     },
     "metadata": {},
     "output_type": "display_data"
    },
    {
     "data": {
      "application/vnd.jupyter.widget-view+json": {
       "model_id": "0502c9ddc8d445c6b1cae85ca78d52b4",
       "version_major": 2,
       "version_minor": 0
      },
      "text/plain": [
       "  0%|          | 0/10000 [00:00<?, ?it/s]"
      ]
     },
     "metadata": {},
     "output_type": "display_data"
    },
    {
     "data": {
      "application/vnd.jupyter.widget-view+json": {
       "model_id": "61906ffd4a2645b3aec4b2042b72f513",
       "version_major": 2,
       "version_minor": 0
      },
      "text/plain": [
       "  0%|          | 0/10000 [00:00<?, ?it/s]"
      ]
     },
     "metadata": {},
     "output_type": "display_data"
    },
    {
     "data": {
      "image/png": "[encoded data removed]",
      "text/plain": [
       "<Figure size 1000x100 with 5 Axes>"
      ]
     },
     "metadata": {},
     "output_type": "display_data"
    }
   ],
   "source": [
    "from sudodle_simulation import random_square\n",
    "\n",
    "fig, axes = plt.subplots(1, 5, figsize=(10, 1))\n",
    "first_guesses = [random_square(5) for _ in range(5)]\n",
    "for i, (ax, first_guess) in enumerate(zip(axes, first_guesses)):\n",
    "    tries_list = run_multiple_simulations_in_parallel(10_000 * [first_guess])\n",
    "    n_tries_list = [len(tries) + 1 for tries in tries_list if tries is not None]\n",
    "    plot_simulation_histogram(n_tries_list, ax=ax, title=f\"5x5 grid ({i + 1})\")\n",
    "    if ax != axes[0]:\n",
    "        ax.set_ylabel(\"\")\n",
    "        ax.set_yticklabels([])\n",
    "fig.savefig(\"outputs/simulations_random_squares.jpeg\", bbox_inches=\"tight\")"
   ]
  },
  {
   "cell_type": "code",
   "execution_count": 15,
   "metadata": {},
   "outputs": [
    {
     "data": {
      "text/plain": [
       "[[0, 3, 8],\n",
       " [0, 7],\n",
       " [0, 8],\n",
       " [0, 5],\n",
       " [0, 4, 13],\n",
       " [0, 1, 4],\n",
       " [0, 6],\n",
       " [0, 5, 11],\n",
       " [0, 3, 8],\n",
       " [0, 10]]"
      ]
     },
     "execution_count": 15,
     "metadata": {},
     "output_type": "execute_result"
    }
   ],
   "source": [
    "tries_list[:10]"
   ]
  },
  {
   "cell_type": "code",
   "execution_count": 19,
   "metadata": {},
   "outputs": [
    {
     "data": {
      "text/plain": [
       "166"
      ]
     },
     "execution_count": 19,
     "metadata": {},
     "output_type": "execute_result"
    }
   ],
   "source": [
    "selected = [result for result in tries_list if len(result) == 2 and result[1] < 4]\n",
    "len(selected)"
   ]
  },
  {
   "cell_type": "code",
   "execution_count": 30,
   "metadata": {},
   "outputs": [
    {
     "name": "stdout",
     "output_type": "stream",
     "text": [
      "| 1 1 1 1 1\n",
      "| 2 2 2 2 2\n",
      "| 3 3 3 3 3\n",
      "| 4 4 4 4 4\n",
      "| 5 5 5 5 5\n"
     ]
    },
    {
     "data": {
      "application/vnd.jupyter.widget-view+json": {
       "model_id": "710f632677184ea98c1e3e218fd750eb",
       "version_major": 2,
       "version_minor": 0
      },
      "text/plain": [
       "Running simulations:   0%|          | 0/10000 [00:00<?, ?it/s]"
      ]
     },
     "metadata": {},
     "output_type": "display_data"
    },
    {
     "data": {
      "image/png": "[encoded data removed]",
      "text/plain": [
       "<Figure size 500x200 with 1 Axes>"
      ]
     },
     "metadata": {},
     "output_type": "display_data"
    }
   ],
   "source": [
    "n = 5\n",
    "first_guess = [n * [i + 1] for i in range(n)]\n",
    "print(square_to_string(first_guess))\n",
    "fig, ax = plt.subplots(1, 1, figsize=(5, 2))\n",
    "simulation_histogram(\n",
    "    first_guess, ax, title=\"5x5 grid with first guess\", sample_size=10_000\n",
    ")"
   ]
  },
  {
   "cell_type": "code",
   "execution_count": 151,
   "metadata": {},
   "outputs": [
    {
     "name": "stdout",
     "output_type": "stream",
     "text": [
      "Successfully parsed 26 puzzles from rust_puzzle_finder/outputs/s4.txt\n",
      "Successfully parsed 1560 puzzles from rust_puzzle_finder/outputs/s5.txt\n",
      "Successfully parsed 57 puzzles from rust_puzzle_finder/outputs/s6.txt\n"
     ]
    }
   ],
   "source": [
    "from sudodle_plotting import plot_puzzles_pdf_from_txt\n",
    "\n",
    "for i in 4, 5, 6:\n",
    "    plot_puzzles_pdf_from_txt(f\"rust_puzzle_finder/outputs/s{i}.txt\", i)"
   ]
  },
  {
   "cell_type": "code",
   "execution_count": 152,
   "metadata": {},
   "outputs": [
    {
     "name": "stdout",
     "output_type": "stream",
     "text": [
      "Successfully parsed 18 puzzles from rust_puzzle_finder/outputs/s7-p10-1M.txt\n"
     ]
    }
   ],
   "source": [
    "plot_puzzles_pdf_from_txt(f\"rust_puzzle_finder/outputs/s7-p10-1M.txt\", 7)\n"
   ]
  },
  {
   "cell_type": "code",
   "execution_count": 51,
   "metadata": {},
   "outputs": [
    {
     "data": {
      "application/vnd.jupyter.widget-view+json": {
       "model_id": "4f8dcad0a2fe433fa8ebef9ccfa37ed6",
       "version_major": 2,
       "version_minor": 0
      },
      "text/plain": [
       "0it [00:00, ?it/s]"
      ]
     },
     "metadata": {},
     "output_type": "display_data"
    },
    {
     "data": {
      "text/plain": [
       "26"
      ]
     },
     "execution_count": 51,
     "metadata": {},
     "output_type": "execute_result"
    }
   ],
   "source": [
    "from sudodle_simulation import find_single_solution_puzzles, cyclic_latin_square\n",
    "\n",
    "square = cyclic_latin_square(5)\n",
    "solutions = find_single_solution_puzzles(grid, n_well_placed=2)\n",
    "len(solutions)\n"
   ]
  },
  {
   "cell_type": "code",
   "execution_count": 24,
   "metadata": {},
   "outputs": [
    {
     "ename": "TypeError",
     "evalue": "find_single_solution_puzzles() got an unexpected keyword argument 'N'",
     "output_type": "error",
     "traceback": [
      "\u001b[31m---------------------------------------------------------------------------\u001b[39m",
      "\u001b[31mTypeError\u001b[39m                                 Traceback (most recent call last)",
      "\u001b[36mCell\u001b[39m\u001b[36m \u001b[39m\u001b[32mIn[24]\u001b[39m\u001b[32m, line 1\u001b[39m\n\u001b[32m----> \u001b[39m\u001b[32m1\u001b[39m solutions = \u001b[43mfind_single_solution_puzzles\u001b[49m\u001b[43m(\u001b[49m\u001b[43mN\u001b[49m\u001b[43m=\u001b[49m\u001b[32;43m6\u001b[39;49m\u001b[43m,\u001b[49m\u001b[43m \u001b[49m\u001b[43mn_well_placed\u001b[49m\u001b[43m=\u001b[49m\u001b[32;43m5\u001b[39;49m\u001b[43m)\u001b[49m\n\u001b[32m      2\u001b[39m \u001b[38;5;28mlen\u001b[39m(solutions)\n",
      "\u001b[31mTypeError\u001b[39m: find_single_solution_puzzles() got an unexpected keyword argument 'N'"
     ]
    }
   ],
   "source": [
    "solutions = find_single_solution_puzzles(N=6, n_well_placed=5)\n",
    "len(solutions)"
   ]
  },
  {
   "cell_type": "code",
   "execution_count": null,
   "metadata": {},
   "outputs": [
    {
     "data": {
      "text/plain": [
       "2892"
      ]
     },
     "execution_count": 126,
     "metadata": {},
     "output_type": "execute_result"
    }
   ],
   "source": [
    "uniquified_selected_solutions = set()\n",
    "for correct_tiles, solution in selected_solutions:\n",
    "    uniquified_selected_solutions.add(standardize_puzzle(correct_tiles))\n",
    "len(uniquified_selected_solutions)"
   ]
  },
  {
   "cell_type": "markdown",
   "metadata": {},
   "source": [
    "### Process the mined puzzles\n"
   ]
  },
  {
   "cell_type": "code",
   "execution_count": null,
   "metadata": {},
   "outputs": [],
   "source": [
    "from sudodle_simulation import parse_puzzles_from_txt\n",
    "from pathlib import Path\n",
    "\n",
    "N = 5\n",
    "folder = Path(\"rust_puzzle_finder/outputs\")\n",
    "file_name = \"s5.txt\"\n",
    "\n",
    "\n",
    "def process(file_name, N):\n",
    "    puzzles = parse_puzzles_from_txt(\n",
    "        \"rust_puzzle_finder/outputs/s5.txt\", N, standardize_tiles=False\n",
    "    )\n",
    "    compact_puzzles = [[N * i + j for (i, j) in tiles] for tiles in puzzles]\n",
    "    as_csv = \"\\n\".join([\",\".join([f\"{n}\" for n in tiles]) for tiles in compact_puzzles])\n",
    "    (folder / file_name.replace(\".txt\", \"_compact.csv\")).write_text(as_csv)\n",
    "\n",
    "\n",
    "for file_name, N in [\n",
    "    (\"s4.txt\", 4),\n",
    "    (\"s5.txt\", 5),\n",
    "    (\"s6.txt\", 6),\n",
    "    (\"s7-p10-10M.txt\", 7),\n",
    "]:\n",
    "    process(file_name, N)\n"
   ]
  },
  {
   "cell_type": "code",
   "execution_count": 109,
   "metadata": {},
   "outputs": [
    {
     "data": {
      "image/png": "[encoded data removed]",
      "text/plain": [
       "<Figure size 500x500 with 1 Axes>"
      ]
     },
     "metadata": {},
     "output_type": "display_data"
    }
   ],
   "source": [
    "import matplotlib.pyplot as plt\n",
    "from sudodle_simulation import cyclic_latin_square, plot_puzzle\n",
    "\n",
    "\n",
    "def plot_puzzle(N, well_placed_tiles):\n",
    "    \"\"\"Plot the cyclic latin square with Matplotlib and highlight\n",
    "    the well placed tiles in green.\"\"\"\n",
    "    grid = cyclic_latin_square(N)\n",
    "    fig, ax = plt.subplots(figsize=(N, N))\n",
    "    ax.set_xticks([])\n",
    "    ax.set_yticks([])\n",
    "    ax.set_xlim(0, N)\n",
    "    ax.set_ylim(0, N)\n",
    "    ax.set_aspect(\"equal\")\n",
    "    ax.grid(True, linestyle=\"--\", linewidth=0.5, color=\"gray\")\n",
    "    tile_coordinates = [(i, j) for i in range(N) for j in range(N)]\n",
    "    # Draw grid lines\n",
    "    for i in range(N + 1):\n",
    "        ax.axhline(y=i, color=\"black\", linewidth=1)\n",
    "        ax.axvline(x=i, color=\"black\", linewidth=1)\n",
    "    for i, j in tile_coordinates:\n",
    "        if (i, j) in well_placed_tiles:\n",
    "            color = \"white\"\n",
    "            ax.add_patch(plt.Rectangle((j, N - i - 1), 1, 1, facecolor=\"darkgreen\"))\n",
    "        else:\n",
    "            color = \"lightgrey\"\n",
    "        ax.text(\n",
    "            x=j + 0.5,\n",
    "            y=N - i - 0.55,\n",
    "            s=grid[i][j],\n",
    "            ha=\"center\",\n",
    "            va=\"center\",\n",
    "            fontsize=36,\n",
    "            fontfamily=\"EB Garamond\",\n",
    "            color=color,\n",
    "        )\n",
    "\n",
    "\n",
    "plot_puzzle(5, selected_solutions[10][0])\n"
   ]
  },
  {
   "cell_type": "code",
   "execution_count": 61,
   "metadata": {},
   "outputs": [
    {
     "data": {
      "text/plain": [
       "[[1, 2, 4, 5, 3],\n",
       " [2, 4, 3, 1, 5],\n",
       " [4, 3, 5, 2, 1],\n",
       " [5, 1, 2, 3, 4],\n",
       " [3, 5, 1, 4, 2]]"
      ]
     },
     "execution_count": 61,
     "metadata": {},
     "output_type": "execute_result"
    }
   ],
   "source": [
    "selected_solutions[0]\n"
   ]
  },
  {
   "cell_type": "code",
   "execution_count": 28,
   "metadata": {},
   "outputs": [
    {
     "data": {
      "text/plain": [
       "[[3, 4, 5, 2, 1],\n",
       " [4, 5, 2, 1, 3],\n",
       " [5, 1, 4, 3, 2],\n",
       " [2, 3, 1, 5, 4],\n",
       " [1, 2, 3, 4, 5]]"
      ]
     },
     "execution_count": 28,
     "metadata": {},
     "output_type": "execute_result"
    }
   ],
   "source": [
    "from ortools_solver import random_latin_square_with_ortools\n",
    "\n",
    "square = random_latin_square_with_ortools(5, seed=42)\n",
    "square"
   ]
  },
  {
   "cell_type": "code",
   "execution_count": 35,
   "metadata": {},
   "outputs": [
    {
     "name": "stdout",
     "output_type": "stream",
     "text": [
      "19.5 ms ± 72.8 μs per loop (mean ± std. dev. of 7 runs, 100 loops each)\n"
     ]
    }
   ],
   "source": [
    "%%timeit\n",
    "a = random_latin_square_with_ortools(9, seed=42)"
   ]
  },
  {
   "cell_type": "code",
   "execution_count": 30,
   "metadata": {},
   "outputs": [],
   "source": [
    "from sudodle_simulation import backtracked_random_latin_square\n"
   ]
  },
  {
   "cell_type": "code",
   "execution_count": 34,
   "metadata": {},
   "outputs": [
    {
     "name": "stdout",
     "output_type": "stream",
     "text": [
      "80.6 μs ± 347 ns per loop (mean ± std. dev. of 7 runs, 10,000 loops each)\n"
     ]
    }
   ],
   "source": [
    "%%timeit\n",
    "a = backtracked_random_latin_square(9, seed=42)"
   ]
  },
  {
   "cell_type": "code",
   "execution_count": null,
   "metadata": {},
   "outputs": [],
   "source": [
    "from sudo"
   ]
  }
 ],
 "metadata": {
  "kernelspec": {
   "display_name": "Python 3",
   "language": "python",
   "name": "python3"
  },
  "language_info": {
   "codemirror_mode": {
    "name": "ipython",
    "version": 3
   },
   "file_extension": ".py",
   "mimetype": "text/x-python",
   "name": "python",
   "nbconvert_exporter": "python",
   "pygments_lexer": "ipython3",
   "version": "3.12.3"
  }
 },
 "nbformat": 4,
 "nbformat_minor": 2
}
