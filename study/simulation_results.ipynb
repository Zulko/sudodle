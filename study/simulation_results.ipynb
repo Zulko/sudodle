{
 "cells": [
  {
   "cell_type": "markdown",
   "metadata": {},
   "source": [
    "# Sudodle simulations\n"
   ]
  },
  {
   "cell_type": "code",
   "execution_count": 1,
   "metadata": {},
   "outputs": [],
   "source": [
    "%load_ext autoreload\n",
    "%autoreload 2"
   ]
  },
  {
   "cell_type": "code",
   "execution_count": 2,
   "metadata": {},
   "outputs": [],
   "source": [
    "import matplotlib.pyplot as plt\n",
    "from tqdm.auto import tqdm\n",
    "from concurrent.futures import ProcessPoolExecutor, as_completed\n",
    "from sudodle_simulation import (\n",
    "    cyclic_latin_square,\n",
    "    uniform_random_latin_square,\n",
    "    square_to_string,\n",
    "    run_multiple_simulations_in_parallel,\n",
    ")\n",
    "\n",
    "from sudodle_plotting import plot_simulation_histogram\n"
   ]
  },
  {
   "cell_type": "markdown",
   "metadata": {},
   "source": [
    "## Results starting from the classic cyclic latin square\n"
   ]
  },
  {
   "cell_type": "code",
   "execution_count": 3,
   "metadata": {},
   "outputs": [
    {
     "data": {
      "application/vnd.jupyter.widget-view+json": {
       "model_id": "b6de6a82450c4adb944bdeeec661b7de",
       "version_major": 2,
       "version_minor": 0
      },
      "text/plain": [
       "  0%|          | 0/10000 [00:00<?, ?it/s]"
      ]
     },
     "metadata": {},
     "output_type": "display_data"
    },
    {
     "data": {
      "application/vnd.jupyter.widget-view+json": {
       "model_id": "0da0dbc9811144c39142c91704a1daed",
       "version_major": 2,
       "version_minor": 0
      },
      "text/plain": [
       "  0%|          | 0/10000 [00:00<?, ?it/s]"
      ]
     },
     "metadata": {},
     "output_type": "display_data"
    },
    {
     "data": {
      "application/vnd.jupyter.widget-view+json": {
       "model_id": "3d2827049e7b48738a8ffb6f872f3a5c",
       "version_major": 2,
       "version_minor": 0
      },
      "text/plain": [
       "  0%|          | 0/10000 [00:00<?, ?it/s]"
      ]
     },
     "metadata": {},
     "output_type": "display_data"
    },
    {
     "data": {
      "application/vnd.jupyter.widget-view+json": {
       "model_id": "386bd1713aa54cbba2a51616eebb7e8d",
       "version_major": 2,
       "version_minor": 0
      },
      "text/plain": [
       "  0%|          | 0/10000 [00:00<?, ?it/s]"
      ]
     },
     "metadata": {},
     "output_type": "display_data"
    },
    {
     "data": {
      "application/vnd.jupyter.widget-view+json": {
       "model_id": "eca259ef2802412782795740eac7a10a",
       "version_major": 2,
       "version_minor": 0
      },
      "text/plain": [
       "  0%|          | 0/10000 [00:00<?, ?it/s]"
      ]
     },
     "metadata": {},
     "output_type": "display_data"
    },
    {
     "data": {
      "image/png": "[encoded data removed]",
      "text/plain": [
       "<Figure size 1000x100 with 5 Axes>"
      ]
     },
     "metadata": {},
     "output_type": "display_data"
    }
   ],
   "source": [
    "fig, axes = plt.subplots(1, 5, figsize=(10, 1))\n",
    "for i, ax in enumerate(axes):\n",
    "    n = i + 5\n",
    "    cyclic_square = cyclic_latin_square(n)\n",
    "    tries_list = run_multiple_simulations_in_parallel(\n",
    "        10_000 * [cyclic_square], n_processes=4\n",
    "    )\n",
    "    n_tries_list = [len(tries) + 1 for tries in tries_list if tries is not None]\n",
    "    plot_simulation_histogram(n_tries_list, ax=ax, title=f\"{n}x{n} grid\")\n",
    "    if ax != axes[0]:\n",
    "        ax.set_ylabel(\"\")\n",
    "fig.savefig(\"outputs/simulation_5_to_9.jpeg\", bbox_inches=\"tight\")"
   ]
  },
  {
   "cell_type": "markdown",
   "metadata": {},
   "source": [
    "## Results with 5 different (random) latin squares\n"
   ]
  },
  {
   "cell_type": "code",
   "execution_count": 12,
   "metadata": {},
   "outputs": [
    {
     "data": {
      "application/vnd.jupyter.widget-view+json": {
       "model_id": "2e8c719b22ea40f4a3724abceabda41e",
       "version_major": 2,
       "version_minor": 0
      },
      "text/plain": [
       "  0%|          | 0/10000 [00:00<?, ?it/s]"
      ]
     },
     "metadata": {},
     "output_type": "display_data"
    },
    {
     "data": {
      "application/vnd.jupyter.widget-view+json": {
       "model_id": "31dc9d56b25945849693e292226ed7ed",
       "version_major": 2,
       "version_minor": 0
      },
      "text/plain": [
       "  0%|          | 0/10000 [00:00<?, ?it/s]"
      ]
     },
     "metadata": {},
     "output_type": "display_data"
    },
    {
     "data": {
      "application/vnd.jupyter.widget-view+json": {
       "model_id": "02d6e47475114efaa4c16c241001483b",
       "version_major": 2,
       "version_minor": 0
      },
      "text/plain": [
       "  0%|          | 0/10000 [00:00<?, ?it/s]"
      ]
     },
     "metadata": {},
     "output_type": "display_data"
    },
    {
     "data": {
      "application/vnd.jupyter.widget-view+json": {
       "model_id": "cbef3d002b33474ca859295511f4b88e",
       "version_major": 2,
       "version_minor": 0
      },
      "text/plain": [
       "  0%|          | 0/10000 [00:00<?, ?it/s]"
      ]
     },
     "metadata": {},
     "output_type": "display_data"
    },
    {
     "data": {
      "application/vnd.jupyter.widget-view+json": {
       "model_id": "e359c0a7b1fb488390697453e71f53ae",
       "version_major": 2,
       "version_minor": 0
      },
      "text/plain": [
       "  0%|          | 0/10000 [00:00<?, ?it/s]"
      ]
     },
     "metadata": {},
     "output_type": "display_data"
    },
    {
     "data": {
      "image/png": "[encoded data removed]",
      "text/plain": [
       "<Figure size 1000x100 with 5 Axes>"
      ]
     },
     "metadata": {},
     "output_type": "display_data"
    }
   ],
   "source": [
    "fig, axes = plt.subplots(1, 5, figsize=(10, 1))\n",
    "for i, ax in enumerate(axes):\n",
    "    first_guess = uniform_random_latin_square(5)\n",
    "    tries_list = run_multiple_simulations_in_parallel(10_000 * [first_guess])\n",
    "    n_tries_list = [len(tries) + 1 for tries in tries_list if tries is not None]\n",
    "    plot_simulation_histogram(n_tries_list, ax=ax, title=f\"5x5 grid ({i + 1})\")\n",
    "    if ax != axes[0]:\n",
    "        ax.set_ylabel(\"\")\n",
    "        ax.set_yticklabels([])\n",
    "fig.savefig(\"outputs/simulations_random_latin_squares.jpeg\", bbox_inches=\"tight\")\n"
   ]
  },
  {
   "cell_type": "markdown",
   "metadata": {},
   "source": [
    "## Results with just random squares\n",
    "\n",
    "(each square has 5 ones, 5 twos, etc.)\n"
   ]
  },
  {
   "cell_type": "code",
   "execution_count": 18,
   "metadata": {},
   "outputs": [
    {
     "data": {
      "application/vnd.jupyter.widget-view+json": {
       "model_id": "5c074fa99c554a7ea5794c92a424d19a",
       "version_major": 2,
       "version_minor": 0
      },
      "text/plain": [
       "  0%|          | 0/10000 [00:00<?, ?it/s]"
      ]
     },
     "metadata": {},
     "output_type": "display_data"
    },
    {
     "data": {
      "application/vnd.jupyter.widget-view+json": {
       "model_id": "932bf96100984402aaecfe7f4173e771",
       "version_major": 2,
       "version_minor": 0
      },
      "text/plain": [
       "  0%|          | 0/10000 [00:00<?, ?it/s]"
      ]
     },
     "metadata": {},
     "output_type": "display_data"
    },
    {
     "data": {
      "application/vnd.jupyter.widget-view+json": {
       "model_id": "2af2140c98174c818ad218d64aa965b2",
       "version_major": 2,
       "version_minor": 0
      },
      "text/plain": [
       "  0%|          | 0/10000 [00:00<?, ?it/s]"
      ]
     },
     "metadata": {},
     "output_type": "display_data"
    },
    {
     "data": {
      "application/vnd.jupyter.widget-view+json": {
       "model_id": "0502c9ddc8d445c6b1cae85ca78d52b4",
       "version_major": 2,
       "version_minor": 0
      },
      "text/plain": [
       "  0%|          | 0/10000 [00:00<?, ?it/s]"
      ]
     },
     "metadata": {},
     "output_type": "display_data"
    },
    {
     "data": {
      "application/vnd.jupyter.widget-view+json": {
       "model_id": "61906ffd4a2645b3aec4b2042b72f513",
       "version_major": 2,
       "version_minor": 0
      },
      "text/plain": [
       "  0%|          | 0/10000 [00:00<?, ?it/s]"
      ]
     },
     "metadata": {},
     "output_type": "display_data"
    },
    {
     "data": {
      "image/png": "[encoded data removed]",
      "text/plain": [
       "<Figure size 1000x100 with 5 Axes>"
      ]
     },
     "metadata": {},
     "output_type": "display_data"
    }
   ],
   "source": [
    "from sudodle_simulation import random_square\n",
    "\n",
    "fig, axes = plt.subplots(1, 5, figsize=(10, 1))\n",
    "first_guesses = [random_square(5) for _ in range(5)]\n",
    "for i, (ax, first_guess) in enumerate(zip(axes, first_guesses)):\n",
    "    tries_list = run_multiple_simulations_in_parallel(10_000 * [first_guess])\n",
    "    n_tries_list = [len(tries) + 1 for tries in tries_list if tries is not None]\n",
    "    plot_simulation_histogram(n_tries_list, ax=ax, title=f\"5x5 grid ({i + 1})\")\n",
    "    if ax != axes[0]:\n",
    "        ax.set_ylabel(\"\")\n",
    "        ax.set_yticklabels([])\n",
    "fig.savefig(\"outputs/simulations_random_squares.jpeg\", bbox_inches=\"tight\")"
   ]
  },
  {
   "cell_type": "markdown",
   "metadata": {},
   "source": [
    "## The 1s-2s-3s... is maybe the worst first guess\n"
   ]
  },
  {
   "cell_type": "code",
   "execution_count": 30,
   "metadata": {},
   "outputs": [
    {
     "name": "stdout",
     "output_type": "stream",
     "text": [
      "| 1 1 1 1 1\n",
      "| 2 2 2 2 2\n",
      "| 3 3 3 3 3\n",
      "| 4 4 4 4 4\n",
      "| 5 5 5 5 5\n"
     ]
    },
    {
     "data": {
      "application/vnd.jupyter.widget-view+json": {
       "model_id": "710f632677184ea98c1e3e218fd750eb",
       "version_major": 2,
       "version_minor": 0
      },
      "text/plain": [
       "Running simulations:   0%|          | 0/10000 [00:00<?, ?it/s]"
      ]
     },
     "metadata": {},
     "output_type": "display_data"
    },
    {
     "data": {
      "image/png": "[encoded data removed]",
      "text/plain": [
       "<Figure size 500x200 with 1 Axes>"
      ]
     },
     "metadata": {},
     "output_type": "display_data"
    }
   ],
   "source": [
    "n = 5\n",
    "first_guess = [n * [i + 1] for i in range(n)]\n",
    "print(square_to_string(first_guess))\n",
    "fig, ax = plt.subplots(1, 1, figsize=(5, 2))\n",
    "simulation_histogram(\n",
    "    first_guess, ax, title=\"5x5 grid with first guess\", sample_size=10_000\n",
    ")"
   ]
  },
  {
   "cell_type": "code",
   "execution_count": 151,
   "metadata": {},
   "outputs": [
    {
     "name": "stdout",
     "output_type": "stream",
     "text": [
      "Successfully parsed 26 puzzles from rust_puzzle_finder/outputs/s4.txt\n",
      "Successfully parsed 1560 puzzles from rust_puzzle_finder/outputs/s5.txt\n",
      "Successfully parsed 57 puzzles from rust_puzzle_finder/outputs/s6.txt\n"
     ]
    }
   ],
   "source": [
    "from sudodle_plotting import plot_puzzles_pdf_from_txt\n",
    "\n",
    "for i in 4, 5, 6:\n",
    "    plot_puzzles_pdf_from_txt(f\"rust_puzzle_finder/outputs/s{i}.txt\", i)"
   ]
  },
  {
   "cell_type": "markdown",
   "metadata": {},
   "source": [
    "## Process the mined puzzles\n"
   ]
  },
  {
   "cell_type": "code",
   "execution_count": 15,
   "metadata": {},
   "outputs": [
    {
     "name": "stdout",
     "output_type": "stream",
     "text": [
      "Found 26 puzzles in s4.txt\n",
      "Found 1560 puzzles in s5.txt\n",
      "Found 57 puzzles in s6.txt\n",
      "Found 96 puzzles in s7-p10-10M.txt\n"
     ]
    }
   ],
   "source": [
    "from sudodle_simulation import parse_puzzles_from_txt\n",
    "from pathlib import Path\n",
    "\n",
    "folder = Path(\"rust_puzzle_finder/outputs\")\n",
    "\n",
    "\n",
    "def compact_puzzles(file_name, N):\n",
    "    puzzles = parse_puzzles_from_txt(folder / file_name, standardize_tiles=True)\n",
    "    print(f\"Found {len(puzzles)} puzzles in {file_name}\")\n",
    "    integers = [[N * i + j for (i, j) in tiles] for tiles in puzzles]\n",
    "    character_list = \"0123456789ABCDEFGHIJKLMNOPQRSTUVWXYZabcdefghijklmnopqrstuvwxyz\"\n",
    "    characters_list = [\n",
    "        ([str(N)] + [character_list[n] for n in tiles]) for tiles in integers\n",
    "    ]\n",
    "    return \"\\n\".join([\"\".join(characters) for characters in sorted(characters_list)])\n",
    "\n",
    "\n",
    "compacted_puzzles = \"\\n\".join(\n",
    "    compact_puzzles(file_name, N)\n",
    "    for file_name, N in [\n",
    "        (\"s4.txt\", 4),\n",
    "        (\"s5.txt\", 5),\n",
    "        (\"s6.txt\", 6),\n",
    "        (\"s7-p10-10M.txt\", 7),\n",
    "    ]\n",
    ")\n",
    "(Path(\"..\") / \"sudodle\" / \"public\" / \"compacted_puzzles.txt\").write_text(\n",
    "    compacted_puzzles\n",
    ");\n"
   ]
  },
  {
   "cell_type": "code",
   "execution_count": 6,
   "metadata": {},
   "outputs": [
    {
     "data": {
      "text/plain": [
       "([[[2, 1, 4, 3, 5],\n",
       "   [3, 2, 1, 5, 4],\n",
       "   [5, 4, 2, 1, 3],\n",
       "   [1, 3, 5, 4, 2],\n",
       "   [4, 5, 3, 2, 1]]],\n",
       " [2, 6])"
      ]
     },
     "execution_count": 6,
     "metadata": {},
     "output_type": "execute_result"
    }
   ],
   "source": [
    "from sudodle_simulation import (\n",
    "    complete_latin_square_backtrack_all_solutions,\n",
    "    cyclic_latin_square,\n",
    "    parse_puzzles_from_txt,\n",
    ")\n",
    "\n",
    "cyclic_square = cyclic_latin_square(5)\n",
    "\n",
    "known_values = {(0, 4): 5, (1, 3): 5, (2, 1): 4, (2, 3): 1}\n",
    "known_wrong_values = {\n",
    "    (i, j): [cyclic_square[i][j]]\n",
    "    for i in range(5)\n",
    "    for j in range(5)\n",
    "    if (i, j) not in known_values\n",
    "}\n",
    "complete_latin_square_backtrack_all_solutions(\n",
    "    size=5,\n",
    "    known_values=known_values,\n",
    "    known_wrong_values=known_wrong_values,\n",
    "    max_solutions=10,\n",
    ")"
   ]
  },
  {
   "cell_type": "code",
   "execution_count": 6,
   "metadata": {},
   "outputs": [
    {
     "data": {
      "image/png": "[encoded data removed]",
      "text/plain": [
       "<Figure size 500x150 with 1 Axes>"
      ]
     },
     "metadata": {},
     "output_type": "display_data"
    }
   ],
   "source": [
    "from sudodle_simulation import (\n",
    "    parse_puzzles_from_txt,\n",
    "    cyclic_latin_square,\n",
    "    complete_latin_square_backtrack_all_solutions,\n",
    ")\n",
    "import matplotlib.pyplot as plt\n",
    "\n",
    "\n",
    "def score_puzzle_difficulty(puzzle, grid_size):\n",
    "    cyclic_square = cyclic_latin_square(grid_size)\n",
    "    known_values = {(i, j): cyclic_square[i][j] for i, j in puzzle}\n",
    "    known_wrong_values = {\n",
    "        (i, j): [cyclic_square[i][j]]\n",
    "        for i in range(grid_size)\n",
    "        for j in range(grid_size)\n",
    "    }\n",
    "    solutions, branches = complete_latin_square_backtrack_all_solutions(\n",
    "        size=grid_size,\n",
    "        known_values=known_values,\n",
    "        known_wrong_values=known_wrong_values,\n",
    "        max_solutions=2,\n",
    "    )\n",
    "    assert len(solutions) == 1, f\"Found {len(solutions)} solutions for {puzzle}\"\n",
    "    return sum(branches[:-1], 0)\n",
    "\n",
    "\n",
    "def plot_difficulty_histogram(difficulties):\n",
    "    fig, ax = plt.subplots(1, figsize=(5, 1.5))\n",
    "    ax.hist(difficulties, bins=range(max(difficulties)))\n",
    "    ax.set_xlabel(\"Difficulty\")\n",
    "    ax.set_ylabel(\"Puzzles\")\n",
    "    return fig, ax\n",
    "\n",
    "\n",
    "puzzles = parse_puzzles_from_txt(\"rust_puzzle_finder/outputs/s5.txt\")\n",
    "difficulties = [score_puzzle_difficulty(puzzle, 5) for puzzle in puzzles]\n",
    "\n",
    "fig, ax = plot_difficulty_histogram(difficulties)\n",
    "fig.savefig(\"outputs/5x5_difficulties.jpeg\", bbox_inches=\"tight\")\n"
   ]
  },
  {
   "cell_type": "code",
   "execution_count": 50,
   "metadata": {},
   "outputs": [
    {
     "data": {
      "image/png": "[encoded data removed]",
      "text/plain": [
       "<Figure size 500x150 with 1 Axes>"
      ]
     },
     "metadata": {},
     "output_type": "display_data"
    }
   ],
   "source": [
    "puzzles = parse_puzzles_from_txt(\"rust_puzzle_finder/outputs/s6.txt\")\n",
    "difficulties = [score_puzzle_difficulty(puzzle, 6) for puzzle in puzzles]\n",
    "\n",
    "fig, ax = plt.subplots(1, figsize=(5, 1.5))\n",
    "ax.hist(difficulties, bins=range(max(difficulties)))\n",
    "ax.set_xlabel(\"Difficulty\")\n",
    "ax.set_ylabel(\"Puzzles\")\n",
    "fig.savefig(\"outputs/5x5_difficulties.jpeg\", bbox_inches=\"tight\")\n"
   ]
  },
  {
   "cell_type": "code",
   "execution_count": 54,
   "metadata": {},
   "outputs": [
    {
     "data": {
      "image/png": "[encoded data removed]",
      "text/plain": [
       "<Figure size 500x150 with 1 Axes>"
      ]
     },
     "metadata": {},
     "output_type": "display_data"
    }
   ],
   "source": [
    "puzzles = parse_puzzles_from_txt(\"rust_puzzle_finder/outputs/s7-p10-10M.txt\")\n",
    "difficulties = [score_puzzle_difficulty(puzzle, 7) for puzzle in puzzles]\n",
    "\n",
    "fig, ax = plt.subplots(1, figsize=(5, 1.5))\n",
    "ax.hist(difficulties, bins=range(max(difficulties)))\n",
    "ax.set_xlabel(\"Difficulty\")\n",
    "ax.set_xlim(0, 50)\n",
    "ax.set_ylabel(\"Puzzles\")\n",
    "fig.savefig(\"outputs/5x5_difficulties.jpeg\", bbox_inches=\"tight\")\n"
   ]
  },
  {
   "cell_type": "code",
   "execution_count": 83,
   "metadata": {},
   "outputs": [
    {
     "name": "stdout",
     "output_type": "stream",
     "text": [
      "Processing s4.txt\n"
     ]
    },
    {
     "data": {
      "application/vnd.jupyter.widget-view+json": {
       "model_id": "2b0c7cbdba60436db9e7f53652a93000",
       "version_major": 2,
       "version_minor": 0
      },
      "text/plain": [
       "0it [00:00, ?it/s]"
      ]
     },
     "metadata": {},
     "output_type": "display_data"
    },
    {
     "name": "stdout",
     "output_type": "stream",
     "text": [
      "Processing s5.txt\n"
     ]
    },
    {
     "data": {
      "application/vnd.jupyter.widget-view+json": {
       "model_id": "fe50fd71c87b4fd1be269267f0afbad7",
       "version_major": 2,
       "version_minor": 0
      },
      "text/plain": [
       "0it [00:00, ?it/s]"
      ]
     },
     "metadata": {},
     "output_type": "display_data"
    },
    {
     "name": "stdout",
     "output_type": "stream",
     "text": [
      "Processing s6.txt\n"
     ]
    },
    {
     "data": {
      "application/vnd.jupyter.widget-view+json": {
       "model_id": "b2063c7613fc4cbaa902d0b2984740a4",
       "version_major": 2,
       "version_minor": 0
      },
      "text/plain": [
       "0it [00:00, ?it/s]"
      ]
     },
     "metadata": {},
     "output_type": "display_data"
    },
    {
     "name": "stdout",
     "output_type": "stream",
     "text": [
      "Processing s7-p10-10M.txt\n"
     ]
    },
    {
     "data": {
      "application/vnd.jupyter.widget-view+json": {
       "model_id": "75d15b887e484040b9e1b2e01b7c4ffb",
       "version_major": 2,
       "version_minor": 0
      },
      "text/plain": [
       "0it [00:00, ?it/s]"
      ]
     },
     "metadata": {},
     "output_type": "display_data"
    }
   ],
   "source": [
    "from sudodle_simulation import parse_puzzles_from_txt\n",
    "from sudodle_plotting import plot_puzzle\n",
    "from pathlib import Path\n",
    "import pandas\n",
    "\n",
    "folder = Path(\"rust_puzzle_finder/outputs\")\n",
    "\n",
    "\n",
    "def compact_puzzle_string(puzzle, N):\n",
    "    integers = [N * i + j for (i, j) in puzzle]\n",
    "    character_list = \"0123456789ABCDEFGHIJKLMNOPQRSTUVWXYZabcdefghijklmnopqrstuvwxyz\"\n",
    "    return str(N) + \"\".join([character_list[n] for n in integers])\n",
    "\n",
    "\n",
    "def compact_puzzles(file_name, N):\n",
    "    puzzles = parse_puzzles_from_txt(folder / file_name, standardize_tiles=True)\n",
    "    print(f\"Found {len(puzzles)} puzzles in {file_name}\")\n",
    "    integers = [[N * i + j for (i, j) in tiles] for tiles in puzzles]\n",
    "    character_list = \"0123456789ABCDEFGHIJKLMNOPQRSTUVWXYZabcdefghijklmnopqrstuvwxyz\"\n",
    "    characters_list = [\n",
    "        ([str(N)] + [character_list[n] for n in tiles]) for tiles in integers\n",
    "    ]\n",
    "    return \"\\n\".join([\"\".join(characters) for characters in sorted(characters_list)])\n",
    "\n",
    "\n",
    "def difficulty_level(difficulty, difficulty_levels):\n",
    "    for level in [\"expert\", \"hard\", \"normal\"]:\n",
    "        if difficulty >= difficulty_levels[level]:\n",
    "            return level\n",
    "    raise ValueError(f\"Difficulty {difficulty} is not in {difficulty_levels}\")\n",
    "\n",
    "\n",
    "records = []\n",
    "for file_name, N, difficulty_levels in [\n",
    "    (\"s4.txt\", 4, {\"normal\": 0, \"hard\": 1, \"expert\": 1}),\n",
    "    (\"s5.txt\", 5, {\"normal\": 0, \"hard\": 2, \"expert\": 6}),\n",
    "    (\"s6.txt\", 6, {\"normal\": 0, \"hard\": 2, \"expert\": 6}),\n",
    "    (\"s7-p10-10M.txt\", 7, {\"normal\": 0, \"hard\": 2, \"expert\": 10}),\n",
    "]:\n",
    "    print(\"Processing\", file_name)\n",
    "    puzzles = parse_puzzles_from_txt(folder / file_name, standardize_tiles=True)\n",
    "    difficulties = [score_puzzle_difficulty(puzzle, N) for puzzle in puzzles]\n",
    "    for puzzle, difficulty in tqdm(zip(puzzles, difficulties)):\n",
    "        level = difficulty_level(difficulty, difficulty_levels)\n",
    "        compact_puzzle = compact_puzzle_string(puzzle, N)\n",
    "        target = Path(\"outputs\") / \"svgs\" / f\"{compact_puzzle}.svg\"\n",
    "        target.parent.mkdir(parents=True, exist_ok=True)\n",
    "        ax = plot_puzzle(N=N, well_placed_tiles=puzzle)\n",
    "        ax.figure.savefig(target, bbox_inches=\"tight\")\n",
    "        plt.close(ax.figure)\n",
    "        records.append(\n",
    "            {\n",
    "                \"compacted_puzzle\": compact_puzzle,\n",
    "                \"level\": level,\n",
    "                \"image_path\": str(target),\n",
    "                \"difficulty\": difficulty,\n",
    "            }\n",
    "        )\n",
    "\n",
    "pandas.DataFrame(records).to_csv(\"outputs/puzzles.csv\", index=False)"
   ]
  },
  {
   "cell_type": "code",
   "execution_count": 82,
   "metadata": {},
   "outputs": [],
   "source": [
    "df = pandas.read_csv(\"outputs/puzzles.csv\")\n",
    "df[[\"compacted_puzzle\", \"level\"]].to_csv(\"../sudodle/public/puzzles.csv\", index=False)"
   ]
  },
  {
   "cell_type": "code",
   "execution_count": 81,
   "metadata": {},
   "outputs": [
    {
     "data": {
      "text/html": [
       "<div>\n",
       "<style scoped>\n",
       "    .dataframe tbody tr th:only-of-type {\n",
       "        vertical-align: middle;\n",
       "    }\n",
       "\n",
       "    .dataframe tbody tr th {\n",
       "        vertical-align: top;\n",
       "    }\n",
       "\n",
       "    .dataframe thead th {\n",
       "        text-align: right;\n",
       "    }\n",
       "</style>\n",
       "<table border=\"1\" class=\"dataframe\">\n",
       "  <thead>\n",
       "    <tr style=\"text-align: right;\">\n",
       "      <th></th>\n",
       "      <th>compacted_puzzle</th>\n",
       "      <th>level</th>\n",
       "      <th>image_path</th>\n",
       "    </tr>\n",
       "  </thead>\n",
       "  <tbody>\n",
       "    <tr>\n",
       "      <th>0</th>\n",
       "      <td>405</td>\n",
       "      <td>normal</td>\n",
       "      <td>outputs/svgs/405.svg</td>\n",
       "    </tr>\n",
       "    <tr>\n",
       "      <th>1</th>\n",
       "      <td>406</td>\n",
       "      <td>normal</td>\n",
       "      <td>outputs/svgs/406.svg</td>\n",
       "    </tr>\n",
       "    <tr>\n",
       "      <th>2</th>\n",
       "      <td>40B</td>\n",
       "      <td>normal</td>\n",
       "      <td>outputs/svgs/40B.svg</td>\n",
       "    </tr>\n",
       "    <tr>\n",
       "      <th>3</th>\n",
       "      <td>40F</td>\n",
       "      <td>normal</td>\n",
       "      <td>outputs/svgs/40F.svg</td>\n",
       "    </tr>\n",
       "    <tr>\n",
       "      <th>4</th>\n",
       "      <td>416</td>\n",
       "      <td>normal</td>\n",
       "      <td>outputs/svgs/416.svg</td>\n",
       "    </tr>\n",
       "    <tr>\n",
       "      <th>...</th>\n",
       "      <td>...</td>\n",
       "      <td>...</td>\n",
       "      <td>...</td>\n",
       "    </tr>\n",
       "    <tr>\n",
       "      <th>1734</th>\n",
       "      <td>736KSTVZdil</td>\n",
       "      <td>normal</td>\n",
       "      <td>outputs/svgs/736KSTVZdil.svg</td>\n",
       "    </tr>\n",
       "    <tr>\n",
       "      <th>1735</th>\n",
       "      <td>701BEFISXim</td>\n",
       "      <td>expert</td>\n",
       "      <td>outputs/svgs/701BEFISXim.svg</td>\n",
       "    </tr>\n",
       "    <tr>\n",
       "      <th>1736</th>\n",
       "      <td>71ADEFSVbck</td>\n",
       "      <td>expert</td>\n",
       "      <td>outputs/svgs/71ADEFSVbck.svg</td>\n",
       "    </tr>\n",
       "    <tr>\n",
       "      <th>1737</th>\n",
       "      <td>725JPSTbdgi</td>\n",
       "      <td>expert</td>\n",
       "      <td>outputs/svgs/725JPSTbdgi.svg</td>\n",
       "    </tr>\n",
       "    <tr>\n",
       "      <th>1738</th>\n",
       "      <td>735GIKPWefi</td>\n",
       "      <td>normal</td>\n",
       "      <td>outputs/svgs/735GIKPWefi.svg</td>\n",
       "    </tr>\n",
       "  </tbody>\n",
       "</table>\n",
       "<p>1739 rows × 3 columns</p>\n",
       "</div>"
      ],
      "text/plain": [
       "     compacted_puzzle   level                    image_path\n",
       "0                 405  normal          outputs/svgs/405.svg\n",
       "1                 406  normal          outputs/svgs/406.svg\n",
       "2                 40B  normal          outputs/svgs/40B.svg\n",
       "3                 40F  normal          outputs/svgs/40F.svg\n",
       "4                 416  normal          outputs/svgs/416.svg\n",
       "...               ...     ...                           ...\n",
       "1734      736KSTVZdil  normal  outputs/svgs/736KSTVZdil.svg\n",
       "1735      701BEFISXim  expert  outputs/svgs/701BEFISXim.svg\n",
       "1736      71ADEFSVbck  expert  outputs/svgs/71ADEFSVbck.svg\n",
       "1737      725JPSTbdgi  expert  outputs/svgs/725JPSTbdgi.svg\n",
       "1738      735GIKPWefi  normal  outputs/svgs/735GIKPWefi.svg\n",
       "\n",
       "[1739 rows x 3 columns]"
      ]
     },
     "execution_count": 81,
     "metadata": {},
     "output_type": "execute_result"
    }
   ],
   "source": [
    "df"
   ]
  },
  {
   "cell_type": "code",
   "execution_count": 61,
   "metadata": {},
   "outputs": [],
   "source": [
    "from sudodle_plotting import plot_puzzle\n",
    "\n",
    "for puzzle, difficulty in zip(puzzles, difficulties):\n",
    "    if difficulty > 45:\n",
    "        plot_puzzle(N=7, well_placed_tiles=puzzle)\n",
    "        break"
   ]
  },
  {
   "cell_type": "code",
   "execution_count": 30,
   "metadata": {},
   "outputs": [
    {
     "name": "stdout",
     "output_type": "stream",
     "text": [
      "900\n"
     ]
    },
    {
     "data": {
      "text/plain": [
       "(<Figure size 500x150 with 1 Axes>,\n",
       " <Axes: xlabel='Difficulty', ylabel='Puzzles'>)"
      ]
     },
     "execution_count": 30,
     "metadata": {},
     "output_type": "execute_result"
    },
    {
     "data": {
      "image/png": "[encoded data removed]",
      "text/plain": [
       "<Figure size 500x150 with 1 Axes>"
      ]
     },
     "metadata": {},
     "output_type": "display_data"
    }
   ],
   "source": [
    "from sudodle_simulation import (\n",
    "    parse_puzzles_from_txt,\n",
    "    standardize_tile_tuple,\n",
    "    complete_latin_square_backtrack_all_solutions,\n",
    ")\n",
    "from sudodle_plotting import plot_puzzles_to_pdf\n",
    "\n",
    "s5_p4_puzzles = parse_puzzles_from_txt(\n",
    "    \"rust_puzzle_finder/outputs/s5.txt\", standardize_tiles=True\n",
    ")\n",
    "\n",
    "s5_p5_puzzles = parse_puzzles_from_txt(\"rust_puzzle_finder/outputs/s5-p5.txt\")\n",
    "\n",
    "s5_p6_puzzles = parse_puzzles_from_txt(\"rust_puzzle_finder/outputs/s5-p6.txt\")\n",
    "\n",
    "s6_p6_puzzles = parse_puzzles_from_txt(\n",
    "    \"rust_puzzle_finder/outputs/s6.txt\", standardize_tiles=True\n",
    ")\n",
    "\n",
    "s6_p7_puzzles = parse_puzzles_from_txt(\"rust_puzzle_finder/outputs/s6-p7.txt\")\n",
    "\n",
    "unique_to_p5 = set()\n",
    "s5_p4_puzzles_set = set([tuple(puzzle) for puzzle in s5_p4_puzzles])\n",
    "for puzzle in s5_p5_puzzles:\n",
    "    for i in range(len(puzzle)):\n",
    "        reduced_puzzle = tuple(puzzle[:i] + puzzle[i + 1 :])\n",
    "        reduced_puzzle = standardize_tile_tuple(reduced_puzzle)\n",
    "        if reduced_puzzle in s5_p4_puzzles_set:\n",
    "            break\n",
    "    else:\n",
    "        unique_to_p5.add(standardize_tile_tuple(puzzle))\n",
    "print(len(unique_to_p5))\n",
    "difficulties = []\n",
    "for puzzle in unique_to_p5:\n",
    "    difficulty = score_puzzle_difficulty(puzzle, 5)\n",
    "    difficulties.append(difficulty)\n",
    "\n",
    "plot_difficulty_histogram(difficulties)\n",
    "# plot_puzzles_to_pdf(unique_to_p5, 5, \"outputs/s5-p5.pdf\")\n"
   ]
  },
  {
   "cell_type": "code",
   "execution_count": 25,
   "metadata": {},
   "outputs": [
    {
     "name": "stdout",
     "output_type": "stream",
     "text": [
      "4960\n"
     ]
    }
   ],
   "source": [
    "unique_to_p6 = set()\n",
    "s5_p45_puzzles_set = set(\n",
    "    [tuple(puzzle) for puzzle in s5_p4_puzzles + list(unique_to_p5)]\n",
    ")\n",
    "for puzzle in s5_p6_puzzles:\n",
    "    for i in range(len(puzzle)):\n",
    "        reduced_puzzle = tuple(puzzle[:i] + puzzle[i + 1 :])\n",
    "        reduced_puzzle = standardize_tile_tuple(reduced_puzzle)\n",
    "        if reduced_puzzle in s5_p45_puzzles_set:\n",
    "            break\n",
    "    else:\n",
    "        unique_to_p6.add(standardize_tile_tuple(puzzle))\n",
    "print(len(unique_to_p6))\n",
    "difficulties = []\n",
    "for puzzle in unique_to_p6:\n",
    "    difficulty = score_puzzle_difficulty(puzzle, 5)\n",
    "    difficulties.append(difficulty)\n",
    "\n",
    "assert list(set(difficulties)) == [0]\n",
    "# plot_puzzles_to_pdf(unique_to_p5, 5, \"outputs/s5-p5.pdf\")\n"
   ]
  },
  {
   "cell_type": "code",
   "execution_count": 31,
   "metadata": {},
   "outputs": [
    {
     "name": "stdout",
     "output_type": "stream",
     "text": [
      "93594\n"
     ]
    }
   ],
   "source": [
    "unique_to_s6p7 = set()\n",
    "s6_p6_puzzles_set = set([tuple(puzzle) for puzzle in s6_p6_puzzles])\n",
    "for puzzle in s6_p7_puzzles:\n",
    "    for i in range(len(puzzle)):\n",
    "        reduced_puzzle = tuple(puzzle[:i] + puzzle[i + 1 :])\n",
    "        reduced_puzzle = standardize_tile_tuple(reduced_puzzle)\n",
    "        if reduced_puzzle in s6_p6_puzzles_set:\n",
    "            break\n",
    "    else:\n",
    "        unique_to_s6p7.add(standardize_tile_tuple(puzzle))\n",
    "print(len(unique_to_s6p7))"
   ]
  },
  {
   "cell_type": "code",
   "execution_count": 27,
   "metadata": {},
   "outputs": [
    {
     "data": {
      "application/vnd.jupyter.widget-view+json": {
       "model_id": "bc4cacb20e3446ca9abc0a6354f73295",
       "version_major": 2,
       "version_minor": 0
      },
      "text/plain": [
       "  0%|          | 0/93594 [00:00<?, ?it/s]"
      ]
     },
     "metadata": {},
     "output_type": "display_data"
    },
    {
     "data": {
      "text/plain": [
       "(<Figure size 500x150 with 1 Axes>,\n",
       " <Axes: xlabel='Difficulty', ylabel='Puzzles'>)"
      ]
     },
     "execution_count": 27,
     "metadata": {},
     "output_type": "execute_result"
    },
    {
     "data": {
      "image/png": "[encoded data removed]",
      "text/plain": [
       "<Figure size 500x150 with 1 Axes>"
      ]
     },
     "metadata": {},
     "output_type": "display_data"
    }
   ],
   "source": [
    "from tqdm.auto import tqdm\n",
    "\n",
    "difficulties = []\n",
    "for puzzle in tqdm(unique_to_s6p7):\n",
    "    difficulty = score_puzzle_difficulty(puzzle, 6)\n",
    "    difficulties.append(difficulty)\n",
    "\n",
    "plot_difficulty_histogram(difficulties)\n"
   ]
  }
 ],
 "metadata": {
  "kernelspec": {
   "display_name": "Python 3",
   "language": "python",
   "name": "python3"
  },
  "language_info": {
   "codemirror_mode": {
    "name": "ipython",
    "version": 3
   },
   "file_extension": ".py",
   "mimetype": "text/x-python",
   "name": "python",
   "nbconvert_exporter": "python",
   "pygments_lexer": "ipython3",
   "version": "3.12.3"
  }
 },
 "nbformat": 4,
 "nbformat_minor": 2
}
